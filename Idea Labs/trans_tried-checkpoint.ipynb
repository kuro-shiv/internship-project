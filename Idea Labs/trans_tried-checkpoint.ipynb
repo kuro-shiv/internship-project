{
 "cells": [
  {
   "cell_type": "code",
   "execution_count": null,
   "id": "c70e05a3-7101-4e59-855e-d37d02b169fa",
   "metadata": {},
   "outputs": [],
   "source": [
    "#pip install torch"
   ]
  },
  {
   "cell_type": "code",
   "execution_count": null,
   "id": "cb40fae0-0f2e-4538-8e38-09d5350ea475",
   "metadata": {},
   "outputs": [],
   "source": [
    "#pip install whisper"
   ]
  },
  {
   "cell_type": "code",
   "execution_count": null,
   "id": "960fe054-5b64-4839-8e94-5a8cafd0ec81",
   "metadata": {},
   "outputs": [],
   "source": [
    "#pip install pyaudio"
   ]
  },
  {
   "cell_type": "code",
   "execution_count": null,
   "id": "a72a01f4-f61f-4fa0-afaa-7d19f1d594d4",
   "metadata": {},
   "outputs": [],
   "source": [
    "#pip install wave"
   ]
  },
  {
   "cell_type": "code",
   "execution_count": null,
   "id": "b5f5305f-7f43-4c37-ac57-f0220f5b433f",
   "metadata": {},
   "outputs": [],
   "source": [
    "#pip install numpy"
   ]
  },
  {
   "cell_type": "code",
   "execution_count": null,
   "id": "3f77d018-d679-46d8-b2a8-115a17ddc2d4",
   "metadata": {},
   "outputs": [],
   "source": [
    "#pip install time\n"
   ]
  },
  {
   "cell_type": "code",
   "execution_count": null,
   "id": "4bb19110-6e0f-4a7e-81e6-71daa0fcac3d",
   "metadata": {},
   "outputs": [],
   "source": [
    "#pip install shutil"
   ]
  },
  {
   "cell_type": "code",
   "execution_count": null,
   "id": "93dbb9dd-fccc-4798-858b-a39122353c6b",
   "metadata": {},
   "outputs": [],
   "source": [
    "#pip install os"
   ]
  },
  {
   "cell_type": "code",
   "execution_count": null,
   "id": "bd20447b-1cc3-44af-9af2-436643f64e4e",
   "metadata": {},
   "outputs": [],
   "source": [
    "import os\n",
    "import time\n",
    "import whisper\n",
    "import shutil\n",
    "from watchdog.observers import Observer\n",
    "from watchdog.events import FileSystemEventHandler\n",
    "\n",
    "# Configuration\n",
    "WATCH_DIRECTORY = \"./media_files\"  # Change to your target directory\n",
    "PROCESSED_FILES = set()\n",
    "\n",
    "def transcribe_audio(file_path):\n",
    "    \"\"\"Transcribes audio using the Whisper model.\"\"\"\n",
    "    model = whisper.load_model(\"base\")  # Change model size as needed\n",
    "    result = model.transcribe(file_path)\n",
    "    \n",
    "    transcript_path = f\"{file_path}.txt\"\n",
    "    with open(transcript_path, \"w\", encoding=\"utf-8\") as f:\n",
    "        f.write(result[\"text\"])\n",
    "    \n",
    "    print(f\"Transcription saved: {transcript_path}\")\n",
    "\n",
    "def process_file(file_path):\n",
    "    \"\"\"Checks if the file is already processed and transcribes it if not.\"\"\"\n",
    "    if file_path in PROCESSED_FILES:\n",
    "        return\n",
    "    \n",
    "    PROCESSED_FILES.add(file_path)\n",
    "    print(f\"Processing: {file_path}\")\n",
    "    transcribe_audio(file_path)\n",
    "\n",
    "def scan_directory(directory):\n",
    "    \"\"\"Scans the directory recursively for audio/video files and processes them.\"\"\"\n",
    "    for root, _, files in os.walk(directory):\n",
    "        for file in files:\n",
    "            if file.endswith((\".mp3\", \".wav\", \".mp4\", \".mkv\", \".mov\", \".flv\", \".aac\", \".m4a\")):\n",
    "                file_path = os.path.join(root, file)\n",
    "                process_file(file_path)\n",
    "\n",
    "class WatcherHandler(FileSystemEventHandler):\n",
    "    \"\"\"Handles real-time file system monitoring.\"\"\"\n",
    "    def on_created(self, event):\n",
    "        if event.is_directory:\n",
    "            return\n",
    "        \n",
    "        if event.src_path.endswith((\".mp3\", \".wav\", \".mp4\", \".mkv\", \".mov\", \".flv\", \".aac\", \".m4a\")):\n",
    "            process_file(event.src_path)\n",
    "\n",
    "if __name__ == \"__main__\":\n",
    "    print(\"Starting transcription service...\")\n",
    "    scan_directory(WATCH_DIRECTORY)\n",
    "    \n",
    "    event_handler = WatcherHandler()\n",
    "    observer = Observer()\n",
    "    observer.schedule(event_handler, WATCH_DIRECTORY, recursive=True)\n",
    "    observer.start()\n",
    "    \n",
    "    try:\n",
    "        while True:\n",
    "            time.sleep(10)\n",
    "    except KeyboardInterrupt:\n",
    "        observer.stop()\n",
    "    observer.join()\n"
   ]
  },
  {
   "cell_type": "code",
   "execution_count": null,
   "id": "2fb0e6af-7555-448d-9a74-92fc3e2e66e7",
   "metadata": {},
   "outputs": [],
   "source": []
  }
 ],
 "metadata": {
  "kernelspec": {
   "display_name": "Python 3 (ipykernel)",
   "language": "python",
   "name": "python3"
  },
  "language_info": {
   "codemirror_mode": {
    "name": "ipython",
    "version": 3
   },
   "file_extension": ".py",
   "mimetype": "text/x-python",
   "name": "python",
   "nbconvert_exporter": "python",
   "pygments_lexer": "ipython3",
   "version": "3.13.2"
  }
 },
 "nbformat": 4,
 "nbformat_minor": 5
}
