{
 "cells": [
  {
   "cell_type": "code",
   "execution_count": null,
   "id": "20a6a865-44d6-4438-9f9b-772d986d9e97",
   "metadata": {},
   "outputs": [
    {
     "name": "stdout",
     "output_type": "stream",
     "text": [
      "\n",
      "AI Assistant Menu:\n",
      "1. Answer Questions\n",
      "2. Summarize Text\n",
      "3. Generate Creative Content\n",
      "4. Exit\n"
     ]
    },
    {
     "name": "stdin",
     "output_type": "stream",
     "text": [
      "Select an option:  1\n",
      "Ask a question:  capital of india\n"
     ]
    },
    {
     "name": "stdout",
     "output_type": "stream",
     "text": [
      "AI: Error: Error code: 429 - {'error': {'message': 'You exceeded your current quota, please check your plan and billing details. For more information on this error, read the docs: https://platform.openai.com/docs/guides/error-codes/api-errors.', 'type': 'insufficient_quota', 'param': None, 'code': 'insufficient_quota'}}\n",
      "\n",
      "AI Assistant Menu:\n",
      "1. Answer Questions\n",
      "2. Summarize Text\n",
      "3. Generate Creative Content\n",
      "4. Exit\n"
     ]
    }
   ],
   "source": [
    "import openai\n",
    "\n",
    "api_key = \"sk-\"  # please put ur key my exceeded the limit\n",
    "\n",
    "\n",
    "client = openai.OpenAI(api_key=api_key)\n",
    "\n",
    "def ask_ai(prompt):\n",
    "    \"\"\"Function to send a prompt to OpenAI API and get a response.\"\"\"\n",
    "    try:\n",
    "        response = client.chat.completions.create(\n",
    "            model=\"gpt-3.5-turbo\",\n",
    "            messages=[{\"role\": \"user\", \"content\": prompt}]\n",
    "        )\n",
    "        return response.choices[0].message.content\n",
    "    except Exception as e:\n",
    "        return f\"Error: {str(e)}\"\n",
    "\n",
    "\n",
    "def chat_with_ai():\n",
    "    \"\"\"Simple interactive chat in Jupyter Notebook.\"\"\"\n",
    "    while True:\n",
    "        print(\"\\nAI Assistant Menu:\")\n",
    "        print(\"1. Answer Questions\")\n",
    "        print(\"2. Summarize Text\")\n",
    "        print(\"3. Generate Creative Content\")\n",
    "        print(\"4. Exit\")\n",
    "        \n",
    "        choice = input(\"Select an option: \")\n",
    "\n",
    "        if choice == \"1\":\n",
    "            user_input = input(\"Ask a question: \")\n",
    "            print(\"AI:\", ask_ai(user_input))\n",
    "        elif choice == \"2\":\n",
    "            user_input = input(\"Enter text to summarize: \")\n",
    "            print(\"AI:\", ask_ai(f\"Summarize this: {user_input}\"))\n",
    "        elif choice == \"3\":\n",
    "            user_input = input(\"Enter a creative prompt: \")\n",
    "            print(\"AI:\", ask_ai(user_input))\n",
    "        elif choice == \"4\":\n",
    "            print(\"Goodbye!\")\n",
    "            break\n",
    "        else:\n",
    "            print(\"Invalid choice, try again.\")\n",
    "\n",
    "\n",
    "chat_with_ai()\n"
   ]
  },
  {
   "cell_type": "code",
   "execution_count": null,
   "id": "bcb673fa-1b52-4d9d-9e99-76a094eb4643",
   "metadata": {},
   "outputs": [],
   "source": []
  }
 ],
 "metadata": {
  "kernelspec": {
   "display_name": "Python 3 (ipykernel)",
   "language": "python",
   "name": "python3"
  },
  "language_info": {
   "codemirror_mode": {
    "name": "ipython",
    "version": 3
   },
   "file_extension": ".py",
   "mimetype": "text/x-python",
   "name": "python",
   "nbconvert_exporter": "python",
   "pygments_lexer": "ipython3",
   "version": "3.13.2"
  }
 },
 "nbformat": 4,
 "nbformat_minor": 5
}
